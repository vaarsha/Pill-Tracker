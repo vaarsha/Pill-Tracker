{
 "cells": [
  {
   "cell_type": "code",
   "execution_count": 1,
   "metadata": {},
   "outputs": [],
   "source": [
    "import pandas as pd"
   ]
  },
  {
   "cell_type": "code",
   "execution_count": 2,
   "metadata": {},
   "outputs": [],
   "source": [
    "df = pd.read_csv('Q2-tennis.csv')"
   ]
  },
  {
   "cell_type": "code",
   "execution_count": 7,
   "metadata": {},
   "outputs": [
    {
     "name": "stderr",
     "output_type": "stream",
     "text": [
      "/usr/lib/python3.6/site-packages/ipykernel_launcher.py:3: UserWarning: Boolean Series key will be reindexed to match DataFrame index.\n",
      "  This is separate from the ipykernel package so we can avoid doing imports until\n",
      "/usr/lib/python3.6/site-packages/ipykernel_launcher.py:4: UserWarning: Boolean Series key will be reindexed to match DataFrame index.\n",
      "  after removing the cwd from sys.path.\n",
      "/usr/lib/python3.6/site-packages/ipykernel_launcher.py:5: UserWarning: Boolean Series key will be reindexed to match DataFrame index.\n",
      "  \"\"\"\n",
      "/usr/lib/python3.6/site-packages/ipykernel_launcher.py:6: UserWarning: Boolean Series key will be reindexed to match DataFrame index.\n",
      "  \n",
      "/usr/lib/python3.6/site-packages/ipykernel_launcher.py:7: UserWarning: Boolean Series key will be reindexed to match DataFrame index.\n",
      "  import sys\n",
      "/usr/lib/python3.6/site-packages/ipykernel_launcher.py:8: UserWarning: Boolean Series key will be reindexed to match DataFrame index.\n",
      "  \n",
      "/usr/lib/python3.6/site-packages/ipykernel_launcher.py:9: UserWarning: Boolean Series key will be reindexed to match DataFrame index.\n",
      "  if __name__ == '__main__':\n",
      "/usr/lib/python3.6/site-packages/ipykernel_launcher.py:10: UserWarning: Boolean Series key will be reindexed to match DataFrame index.\n",
      "  # Remove the CWD from sys.path while we load stuff.\n",
      "/usr/lib/python3.6/site-packages/ipykernel_launcher.py:11: UserWarning: Boolean Series key will be reindexed to match DataFrame index.\n",
      "  # This is added back by InteractiveShellApp.init_path()\n",
      "/usr/lib/python3.6/site-packages/ipykernel_launcher.py:12: UserWarning: Boolean Series key will be reindexed to match DataFrame index.\n",
      "  if sys.path[0] == '':\n"
     ]
    }
   ],
   "source": [
    "# Calculate count of each word.\n",
    "c_yes = df[df['Play'] == 'yes'].count()['Play']\n",
    "c_sunny = df[df['Outlook']=='sunny'][ df['Play'] == 'yes'].count()['Outlook']\n",
    "c_overcast = df[df['Outlook']=='overcast'][ df['Play'] == 'yes'].count()['Outlook']\n",
    "c_rainy = df[df['Outlook']=='rainy'][ df['Play'] == 'yes'].count()['Outlook']\n",
    "c_hot = df[df['Temp.']=='hot'][ df['Play'] == 'yes'].count()['Temp.']\n",
    "c_mild = df[df['Temp.']=='mild'][ df['Play'] == 'yes'].count()['Temp.']\n",
    "c_cold = df[df['Temp.']=='cold'][ df['Play'] == 'yes'].count()['Temp.']\n",
    "c_high = df[df['Humidity']=='high'][ df['Play'] == 'yes'].count()['Humidity']\n",
    "c_normal = df[df['Humidity']=='normal'][ df['Play'] == 'yes'].count()['Humidity']\n",
    "c_windT = df[df['Windy']=='true'][ df['Play'] == 'yes'].count()['Windy']\n",
    "c_windF = df[df['Windy']=='false'][ df['Play'] == 'yes'].count()['Windy']"
   ]
  },
  {
   "cell_type": "code",
   "execution_count": 17,
   "metadata": {},
   "outputs": [],
   "source": [
    "#calculating probabilities when Play is True\n",
    "p_yes = c_yes/df['Play'].count()\n",
    "p_Ysunny = c_sunny/c_yes\n",
    "p_Yovercast = c_overcast/c_yes\n",
    "p_Yrainy = c_rainy/c_yes\n",
    "p_Yhot = c_hot/c_yes\n",
    "p_Ymild = c_mild/c_yes\n",
    "p_Ycold = c_cold/c_yes\n",
    "p_Yhigh = c_high/c_yes\n",
    "p_Ynormal = c_normal/c_yes\n",
    "p_YwindT = c_windT/c_yes\n",
    "p_YwindF = c_windF/c_yes"
   ]
  },
  {
   "cell_type": "code",
   "execution_count": 18,
   "metadata": {},
   "outputs": [],
   "source": [
    "#Probability of each word\n",
    "p_sunny = df[df['Outlook']=='sunny'].count()['Outlook']/df['Outlook'].count()\n",
    "p_overcast = df[df['Outlook']=='overcast'].count()['Outlook']/df['Outlook'].count()\n",
    "p_rainy = df[df['Outlook']=='rainy'].count()['Outlook']/df['Outlook'].count()\n",
    "p_hot = df[df['Temp.']=='hot'].count()['Temp.']/df['Temp.'].count()\n",
    "p_mild = df[df['Temp.']=='mild'].count()['Temp.']/df['Temp.'].count()\n",
    "p_cold = df[df['Temp.']=='cold'].count()['Temp.']/df['Temp.'].count()\n",
    "p_high = df[df['Humidity']=='high'].count()['Humidity'] / df['Humidity'].count()\n",
    "p_normal = df[df['Humidity']=='normal'].count()['Humidity'] / df['Humidity'].count()\n",
    "p_windT = df[df['Windy']=='true'].count()['Windy'] / df['Windy'].count()\n",
    "p_windF = df[df['Windy']=='false'].count()['Windy'] / df['Windy'].count()"
   ]
  },
  {
   "cell_type": "code",
   "execution_count": 22,
   "metadata": {},
   "outputs": [],
   "source": [
    "def PcalY(look, temp, humd, wind):\n",
    "    return (look*temp*humd*wind*p_yes)"
   ]
  },
  {
   "cell_type": "code",
   "execution_count": 23,
   "metadata": {},
   "outputs": [],
   "source": [
    "def PcalN(look, temp, humd, wind):\n",
    "    return 1 - PcalY(look, temp, humd, wind)"
   ]
  },
  {
   "cell_type": "code",
   "execution_count": 27,
   "metadata": {},
   "outputs": [
    {
     "name": "stdout",
     "output_type": "stream",
     "text": [
      "0.222222222222 0.222222222222 0.333333333333 0.0\n",
      "0.0\n"
     ]
    }
   ],
   "source": [
    "print(PcalY(p_Ysunny, p_Yhot, p_Yhigh, p_YwindF))"
   ]
  },
  {
   "cell_type": "code",
   "execution_count": 28,
   "metadata": {},
   "outputs": [],
   "source": [
    "# Laplacian Correction\n",
    "c_yes += 10\n",
    "p_Ysunny = c_sunny+1/c_yes\n",
    "p_Yovercast = c_overcast+1/c_yes\n",
    "p_Yrainy = c_rainy+1/c_yes\n",
    "p_Yhot = c_hot+1/c_yes\n",
    "p_Ymild = c_mild+1/c_yes\n",
    "p_Ycold = c_cold+1/c_yes\n",
    "p_Yhigh = c_high+1/c_yes\n",
    "p_Ynormal = c_normal+1/c_yes\n",
    "p_YwindT = c_windT+1/c_yes\n",
    "p_YwindF = c_windF+1/c_yes"
   ]
  },
  {
   "cell_type": "code",
   "execution_count": 29,
   "metadata": {},
   "outputs": [
    {
     "name": "stdout",
     "output_type": "stream",
     "text": [
      "0.435168326122\n"
     ]
    }
   ],
   "source": [
    "print(PcalY(p_Ysunny, p_Yhot, p_Yhigh, p_YwindF))"
   ]
  },
  {
   "cell_type": "code",
   "execution_count": null,
   "metadata": {},
   "outputs": [],
   "source": []
  }
 ],
 "metadata": {
  "kernelspec": {
   "display_name": "Python 3",
   "language": "python",
   "name": "python3"
  },
  "language_info": {
   "codemirror_mode": {
    "name": "ipython",
    "version": 3
   },
   "file_extension": ".py",
   "mimetype": "text/x-python",
   "name": "python",
   "nbconvert_exporter": "python",
   "pygments_lexer": "ipython3",
   "version": "3.6.3"
  }
 },
 "nbformat": 4,
 "nbformat_minor": 2
}
